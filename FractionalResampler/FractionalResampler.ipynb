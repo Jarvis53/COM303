{
 "cells": [
  {
   "cell_type": "markdown",
   "metadata": {},
   "source": [
    "# Fractional Resampling\n",
    "\n",
    "In this notebook we will implement a simple fractional resampler that uses local Lagrange interpolation. The resampler can be used to perform any rational sampling rate change (but beware of aliasing when downsampling!)"
   ]
  },
  {
   "cell_type": "code",
   "execution_count": null,
   "metadata": {},
   "outputs": [],
   "source": [
    "%matplotlib inline\n",
    "import matplotlib\n",
    "import matplotlib.pyplot as plt\n",
    "import numpy as np\n",
    "import IPython\n",
    "from scipy.io import wavfile"
   ]
  },
  {
   "cell_type": "code",
   "execution_count": null,
   "metadata": {},
   "outputs": [],
   "source": [
    "plt.rcParams[\"figure.figsize\"] = (14,4)"
   ]
  },
  {
   "cell_type": "markdown",
   "metadata": {},
   "source": [
    "Given a nominal input sampling rate $F_i$ and an output sampling rate $F_o$, a fractional resampler generates $A$ output samples for every $B$ input samples where\n",
    "\n",
    "$$\n",
    "    \\frac{A}{B} = \\frac{F_o}{F_i}\n",
    "$$\n",
    "and $A, B$ are coprime for maximum efficiency. So the first thing we need is a simple function that simplifies the ratio of sampling frequencies to its lowest terms. For this we will use Euclid's algorithm:"
   ]
  },
  {
   "cell_type": "code",
   "execution_count": null,
   "metadata": {},
   "outputs": [],
   "source": [
    "def simplify(A, B):\n",
    "    # Euclid's GCD algorithm\n",
    "    a = A\n",
    "    b = B\n",
    "    while a != b:\n",
    "        if a > b:\n",
    "            a = a - b\n",
    "        else:\n",
    "            b = b - a\n",
    "    return A // a, B // b"
   ]
  },
  {
   "cell_type": "markdown",
   "metadata": {},
   "source": [
    "We can test the function on the usual CD to DVD sampling rate change and indeed we obtain the familiar 160/147 ratio:"
   ]
  },
  {
   "cell_type": "code",
   "execution_count": null,
   "metadata": {},
   "outputs": [],
   "source": [
    "print(simplify(48000, 44100))"
   ]
  },
  {
   "cell_type": "markdown",
   "metadata": {},
   "source": [
    "A fractional resampler generates each output sample via a local interpolation that uses an odd number of input samples centered around an \"anchor\" point and a fractional offset $\\tau$ from the anchor point where $|\\tau| < 1/2$. The resampler pattern repeats every $A$ output point and we need $B$ input point for each output block. \n",
    "\n",
    "The method is best understood graphically: a downsampling with a ratio $A/B = 4/5$ generates 4 output samples for every 5 input samples; the anchor points are determined like so:\n",
    "\n",
    "![title](down.png)\n",
    "\n",
    "In the figure, the red dotted lines indicate the intervals with $\\tau$ less than one half in magnitude. As apparent from the figure, since the output rate is less than the input rate, every once in a while an input sample is skipped."
   ]
  },
  {
   "cell_type": "markdown",
   "metadata": {},
   "source": [
    "In the following figure, the sgnal is upsampled with a ratio $A/B = 8/5$ generates 8 output samples for every 5 input samples; since the output rate is larger than the input rate, every once in a while an input sample needs to be reused.\n",
    "\n",
    "![title](up.png)"
   ]
  },
  {
   "cell_type": "markdown",
   "metadata": {},
   "source": [
    "Mathematically, the anchor points are determined like so:\n",
    "\n",
    " * the output sample $y[m]$ occurs at time $t_m = m/F_o$\n",
    " * the closest input sample will be $x[n]$ (occurring at time $t_n = n/F_i$) where $n$ is such that $|m/F_o - n/F_i| < 1/2$.\n",
    " \n",
    "The required value for $n$ can be found by setting \n",
    "$$\n",
    "     \\left|\\mbox{frac}\\left(\\frac{m}{A} - \\frac{n}{B}\\right)\\right| < \\frac{1}{2}\n",
    "$$\n",
    "where frac() indicated the fractional part of a number. This yields\n",
    "$$\n",
    "    n = \\mbox{round}\\left(m\\frac{B}{A}\\right);\n",
    "$$\n",
    "the fractional distance between $y[m]$ and $x[n]$ is given by the time difference normalized by the input's sampling period, that is\n",
    "$$\n",
    "    \\tau = F_i(m/F_o - n/F_i) = m\\frac{B}{A} - \\mbox{round}\\left(m\\frac{B}{A}\\right).\n",
    "$$\n",
    "Note that $\\tau = 0$ every time $m$ is a multiple of $A$, which confirms the repetition pattern every $A$ output samples."
   ]
  },
  {
   "cell_type": "markdown",
   "metadata": {},
   "source": [
    "The following function sets up a set of $A$ quadratic interpolation filters and relative anchor points:"
   ]
  },
  {
   "cell_type": "code",
   "execution_count": null,
   "metadata": {},
   "outputs": [],
   "source": [
    "def setup_filters(output_rate, input_rate):\n",
    "    A, B = simplify(output_rate, input_rate)\n",
    "    filterbank = [None] * A\n",
    "    # while output index spans [0, A-1], the input spans [0, B-1]\n",
    "    for m in range(0, A):\n",
    "        anchor = int(m * B / A + 0.5) \n",
    "        delta = (m * B / A) - anchor\n",
    "        filterbank[m] = (\n",
    "            anchor, \n",
    "            np.array([\n",
    "                delta * (delta - 1) / 2, \n",
    "                (1 - delta) * (1 + delta), \n",
    "                delta * (delta + 1) / 2\n",
    "            ]))\n",
    "    return filterbank"
   ]
  },
  {
   "cell_type": "markdown",
   "metadata": {},
   "source": [
    "We can test with a simple example:"
   ]
  },
  {
   "cell_type": "code",
   "execution_count": null,
   "metadata": {},
   "outputs": [],
   "source": [
    "setup_filters(3, 2)"
   ]
  },
  {
   "cell_type": "markdown",
   "metadata": {},
   "source": [
    "We are now ready to write the full interpolation function:"
   ]
  },
  {
   "cell_type": "code",
   "execution_count": null,
   "metadata": {},
   "outputs": [],
   "source": [
    "def resample(output_rate, input_rate, x):\n",
    "    A, B = simplify(output_rate, input_rate)\n",
    "    filterbank = setup_filters(A, B)\n",
    "    \n",
    "    # prepare an array for the output samples\n",
    "    num_out_samples = (A * len(x)) // B\n",
    "    y = np.zeros(num_out_samples)\n",
    "            \n",
    "    block = 0\n",
    "    m = 0\n",
    "    while m < num_out_samples:\n",
    "        # offset in the input data\n",
    "        offset = block * B\n",
    "        # go through the filters\n",
    "        for fb in filterbank:\n",
    "            n = offset + fb[0]\n",
    "            # let's not overshoot\n",
    "            if n < len(x) - 1:\n",
    "                y[m] = x[n-1] * fb[1][0] + x[n] * fb[1][1] + x[n+1] * fb[1][2]\n",
    "            m += 1\n",
    "        block += 1\n",
    "        \n",
    "    return y"
   ]
  },
  {
   "cell_type": "markdown",
   "metadata": {},
   "source": [
    "We can now test the resampler on a simple sinusoid; we generate the sinusoid at 44.1 KHz and resample at 48KHz; the pitch should not change:"
   ]
  },
  {
   "cell_type": "code",
   "execution_count": null,
   "metadata": {},
   "outputs": [],
   "source": [
    "x = np.cos(2 * np.pi * 440 / 44100 * np.arange(0, 44100))\n",
    "IPython.display.Audio(x, rate=44100)"
   ]
  },
  {
   "cell_type": "code",
   "execution_count": null,
   "metadata": {},
   "outputs": [],
   "source": [
    "y = resample(12000, 44100, x)\n",
    "IPython.display.Audio(y, rate=12000)"
   ]
  },
  {
   "cell_type": "markdown",
   "metadata": {},
   "source": [
    "We can now test the resampler on an audio file; note how aliasing appears when we downsample too much:"
   ]
  },
  {
   "cell_type": "code",
   "execution_count": null,
   "metadata": {},
   "outputs": [],
   "source": [
    "Fi, x = wavfile.read('oao.wav')\n",
    "IPython.display.Audio(x, rate=Fi)\n"
   ]
  },
  {
   "cell_type": "code",
   "execution_count": null,
   "metadata": {},
   "outputs": [],
   "source": [
    "y = resample(48000, Fi, x)\n",
    "IPython.display.Audio(y, rate=48000)"
   ]
  },
  {
   "cell_type": "code",
   "execution_count": null,
   "metadata": {},
   "outputs": [],
   "source": [
    "y = resample(8000, Fi, x)\n",
    "IPython.display.Audio(y, rate=8000)"
   ]
  },
  {
   "cell_type": "code",
   "execution_count": null,
   "metadata": {},
   "outputs": [],
   "source": []
  }
 ],
 "metadata": {
  "kernelspec": {
   "display_name": "Python 3",
   "language": "python",
   "name": "python3"
  },
  "language_info": {
   "codemirror_mode": {
    "name": "ipython",
    "version": 3
   },
   "file_extension": ".py",
   "mimetype": "text/x-python",
   "name": "python",
   "nbconvert_exporter": "python",
   "pygments_lexer": "ipython3",
   "version": "3.6.4"
  }
 },
 "nbformat": 4,
 "nbformat_minor": 2
}
